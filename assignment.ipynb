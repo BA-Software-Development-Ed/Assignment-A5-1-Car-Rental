{
 "cells": [
  {
   "cell_type": "markdown",
   "execution_count": null,
   "metadata": {},
   "outputs": [],
   "source": [
    "# Assignment A5-1 Car Rental Data Classification\n",
    "\n",
    "_Subject_, **Artificial Intelligence**  \n",
    "_Topic_, **Machine Learning**  \n",
    "_Subtopic_, **Supervised Machine Learning: Regression**  \n",
    "\n",
    "### Resources\n",
    "* ...\n",
    "\n",
    "### Content\n",
    "_Only works in jupyter notebooks_\n",
    "* ...\n",
    "\n",
    "### Assignment\n",
    "Build a Decision Tree model to find car, which clients are likely to bye.  \n",
    "See Activity 10 and Activity 11 from the textbook for details.\n",
    "\n",
    "| class | N    | N[%]       | fullname     |\n",
    "|-------|:----:|------------|--------------|\n",
    "|unacc  | 1210 | (70.023 %) | unacceptable |\n",
    "|acc    | 384  | (22.222 %) | acceptable   |\n",
    "|good   | 69   | ( 3.993 %) | good         |\n",
    "|vgood | 65   | ( 3.762 %) | very good    |\n",
    "\n",
    "**Features**\n",
    "\n",
    "| feature  | values                 | numeric values         |\n",
    "|----------|:----------------------:|------------------------|\n",
    "| buying   | v-high, high, med, low | 0.00, 0.33, 0.67, 1.00 | \n",
    "| maint    | v-high, high, med, low | 1.00, 0.67, 0.33, 0.00 |\n",
    "| doors    | 2, 3, 4, 5-more        | 0.00, 0.33, 0.67, 1.00 | \n",
    "| persons  | 2, 4, more             | 0.00, 0.50, 1.00       |\n",
    "| lug_boot | small, med, big        | 0.00, 0.50, 1.00       |\n",
    "| safety   | low, med, high         | 0.00, 0.50, 1.00       |\n",
    "\n",
    "## Random Forest Classifier\n",
    "... page 455"
   ]
  },
  {
   "cell_type": "markdown",
   "execution_count": null,
   "metadata": {},
   "outputs": [],
   "source": [
    "## Prepare Environment"
   ]
  },
  {
   "cell_type": "markdown",
   "execution_count": null,
   "metadata": {},
   "outputs": [],
   "source": [
    "#### Imports"
   ]
  },
  {
   "cell_type": "code",
   "execution_count": 135,
   "metadata": {},
   "outputs": [],
   "source": [
    "import pandas\n",
    "import numpy as np\n",
    "\n",
    "# sklearn for machine learning methods\n",
    "from sklearn import tree\n",
    "from sklearn import model_selection\n",
    "from sklearn.metrics import classification_report\n",
    "from sklearn.metrics import confusion_matrix\n",
    "from sklearn.metrics import accuracy_score\n",
    "from sklearn.tree import DecisionTreeClassifier\n",
    "from sklearn.ensemble import RandomForestClassifier"
   ]
  },
  {
   "cell_type": "markdown",
   "execution_count": null,
   "metadata": {},
   "outputs": [],
   "source": [
    "#### Global Constants"
   ]
  },
  {
   "cell_type": "code",
   "execution_count": 165,
   "metadata": {},
   "outputs": [],
   "source": [
    "HEADERS = ['buying', 'maint', 'doors', 'persons', 'lug_boot', 'safety', 'classifier']\n",
    "CLASSIFIERS = ['unacc', 'acc', 'good', 'vgood']\n",
    "DATA_URL = 'https://archive.ics.uci.edu/ml/machine-learning-databases/car/car.data'"
   ]
  },
  {
   "cell_type": "markdown",
   "execution_count": null,
   "metadata": {},
   "outputs": [],
   "source": [
    "## Prepare Data"
   ]
  },
  {
   "cell_type": "markdown",
   "execution_count": null,
   "metadata": {},
   "outputs": [],
   "source": [
    "Creates a dataframe from the `DATA_URL` and setting the headers to `HEADERS`  "
   ]
  },
  {
   "cell_type": "code",
   "execution_count": 137,
   "metadata": {},
   "outputs": [],
   "source": [
    "df = pandas.read_csv(DATA_URL, names=HEADERS)"
   ]
  },
  {
   "cell_type": "markdown",
   "execution_count": null,
   "metadata": {},
   "outputs": [],
   "source": [
    "Displaying the shape to see the size of the dataset"
   ]
  },
  {
   "cell_type": "code",
   "execution_count": 138,
   "metadata": {},
   "outputs": [
    {
     "data": {
      "text/plain": "(1728, 7)"
     },
     "execution_count": 138,
     "metadata": {},
     "output_type": "execute_result"
    }
   ],
   "source": [
    "df.shape"
   ]
  },
  {
   "cell_type": "markdown",
   "execution_count": null,
   "metadata": {},
   "outputs": [],
   "source": [
    "Displaying the top of the dataset to see the structure"
   ]
  },
  {
   "cell_type": "code",
   "execution_count": 139,
   "metadata": {},
   "outputs": [
    {
     "data": {
      "text/html": "<div>\n<style scoped>\n    .dataframe tbody tr th:only-of-type {\n        vertical-align: middle;\n    }\n\n    .dataframe tbody tr th {\n        vertical-align: top;\n    }\n\n    .dataframe thead th {\n        text-align: right;\n    }\n</style>\n<table border=\"1\" class=\"dataframe\">\n  <thead>\n    <tr style=\"text-align: right;\">\n      <th></th>\n      <th>buying</th>\n      <th>maint</th>\n      <th>doors</th>\n      <th>persons</th>\n      <th>lug_boot</th>\n      <th>safety</th>\n      <th>classifier</th>\n    </tr>\n  </thead>\n  <tbody>\n    <tr>\n      <th>0</th>\n      <td>vhigh</td>\n      <td>vhigh</td>\n      <td>2</td>\n      <td>2</td>\n      <td>small</td>\n      <td>low</td>\n      <td>unacc</td>\n    </tr>\n    <tr>\n      <th>1</th>\n      <td>vhigh</td>\n      <td>vhigh</td>\n      <td>2</td>\n      <td>2</td>\n      <td>small</td>\n      <td>med</td>\n      <td>unacc</td>\n    </tr>\n    <tr>\n      <th>2</th>\n      <td>vhigh</td>\n      <td>vhigh</td>\n      <td>2</td>\n      <td>2</td>\n      <td>small</td>\n      <td>high</td>\n      <td>unacc</td>\n    </tr>\n    <tr>\n      <th>3</th>\n      <td>vhigh</td>\n      <td>vhigh</td>\n      <td>2</td>\n      <td>2</td>\n      <td>med</td>\n      <td>low</td>\n      <td>unacc</td>\n    </tr>\n    <tr>\n      <th>4</th>\n      <td>vhigh</td>\n      <td>vhigh</td>\n      <td>2</td>\n      <td>2</td>\n      <td>med</td>\n      <td>med</td>\n      <td>unacc</td>\n    </tr>\n  </tbody>\n</table>\n</div>",
      "text/plain": "  buying  maint doors persons lug_boot safety classifier\n0  vhigh  vhigh     2       2    small    low      unacc\n1  vhigh  vhigh     2       2    small    med      unacc\n2  vhigh  vhigh     2       2    small   high      unacc\n3  vhigh  vhigh     2       2      med    low      unacc\n4  vhigh  vhigh     2       2      med    med      unacc"
     },
     "execution_count": 139,
     "metadata": {},
     "output_type": "execute_result"
    }
   ],
   "source": [
    "df.head()"
   ]
  },
  {
   "cell_type": "markdown",
   "execution_count": null,
   "metadata": {},
   "outputs": [],
   "source": [
    "Displaying the information of the dataset, to see if any values should be modified"
   ]
  },
  {
   "cell_type": "code",
   "execution_count": 140,
   "metadata": {},
   "outputs": [
    {
     "name": "stdout",
     "output_type": "stream",
     "text": "<class 'pandas.core.frame.DataFrame'>\nRangeIndex: 1728 entries, 0 to 1727\nData columns (total 7 columns):\n #   Column      Non-Null Count  Dtype \n---  ------      --------------  ----- \n 0   buying      1728 non-null   object\n 1   maint       1728 non-null   object\n 2   doors       1728 non-null   object\n 3   persons     1728 non-null   object\n 4   lug_boot    1728 non-null   object\n 5   safety      1728 non-null   object\n 6   classifier  1728 non-null   object\ndtypes: object(7)\nmemory usage: 94.6+ KB\n"
    }
   ],
   "source": [
    "df.info()"
   ]
  },
  {
   "cell_type": "code",
   "execution_count": 141,
   "metadata": {},
   "outputs": [],
   "source": [
    "df.loc[(df.buying == 'low'),'buying'] = 0\n",
    "df.loc[(df.buying == 'med'),'buying'] = 1\n",
    "df.loc[(df.buying == 'high'),'buying'] = 2\n",
    "df.loc[(df.buying == 'vhigh'),'buying'] = 3\n",
    "\n",
    "##\n",
    "df.loc[(df.maint == 'low'),'maint'] = 0\n",
    "df.loc[(df.maint == 'med'),'maint'] = 1\n",
    "df.loc[(df.maint == 'high'),'maint'] = 2\n",
    "df.loc[(df.maint == 'vhigh'),'maint'] = 3\n",
    "\n",
    "##\n",
    "df.loc[(df.doors == '2'),'doors'] = 0\n",
    "df.loc[(df.doors == '3'),'doors'] = 1\n",
    "df.loc[(df.doors == '4'),'doors'] = 2\n",
    "df.loc[(df.doors == '5more'),'doors'] = 3\n",
    "\n",
    "##\n",
    "df.loc[(df.persons == '2'),'persons'] = 0\n",
    "df.loc[(df.persons == '4'),'persons'] = 1\n",
    "df.loc[(df.persons == 'more'),'persons'] = 2\n",
    "\n",
    "##\n",
    "df.loc[(df.lug_boot == 'small'),'lug_boot'] = 0\n",
    "df.loc[(df.lug_boot == 'med'),'lug_boot'] = 1\n",
    "df.loc[(df.lug_boot == 'big'),'lug_boot'] = 2\n",
    "\n",
    "##\n",
    "df.loc[(df.safety == 'low'),'safety'] = 0\n",
    "df.loc[(df.safety == 'med'),'safety'] = 1\n",
    "df.loc[(df.safety == 'high'),'safety'] = 2\n",
    "\n",
    "##\n",
    "df.loc[(df.classifier == 'unacc'),'classifier'] = 0\n",
    "df.loc[(df.classifier == 'acc'),'classifier'] = 1\n",
    "df.loc[(df.classifier == 'good'),'classifier'] = 2\n",
    "df.loc[(df.classifier == 'vgood'),'classifier'] = 3"
   ]
  },
  {
   "cell_type": "markdown",
   "metadata": {},
   "source": [
    "The model only takes numeric values, therefore are the values defined as `float64`"
   ]
  },
  {
   "cell_type": "code",
   "execution_count": 162,
   "metadata": {},
   "outputs": [
    {
     "data": {
      "text/html": "<div>\n<style scoped>\n    .dataframe tbody tr th:only-of-type {\n        vertical-align: middle;\n    }\n\n    .dataframe tbody tr th {\n        vertical-align: top;\n    }\n\n    .dataframe thead th {\n        text-align: right;\n    }\n</style>\n<table border=\"1\" class=\"dataframe\">\n  <thead>\n    <tr style=\"text-align: right;\">\n      <th></th>\n      <th>buying</th>\n      <th>maint</th>\n      <th>doors</th>\n      <th>persons</th>\n      <th>lug_boot</th>\n      <th>safety</th>\n      <th>classifier</th>\n    </tr>\n  </thead>\n  <tbody>\n    <tr>\n      <th>1698</th>\n      <td>0.0</td>\n      <td>0.0</td>\n      <td>2.0</td>\n      <td>2.0</td>\n      <td>2.0</td>\n      <td>0.0</td>\n      <td>0.0</td>\n    </tr>\n    <tr>\n      <th>1699</th>\n      <td>0.0</td>\n      <td>0.0</td>\n      <td>2.0</td>\n      <td>2.0</td>\n      <td>2.0</td>\n      <td>1.0</td>\n      <td>2.0</td>\n    </tr>\n    <tr>\n      <th>1700</th>\n      <td>0.0</td>\n      <td>0.0</td>\n      <td>2.0</td>\n      <td>2.0</td>\n      <td>2.0</td>\n      <td>2.0</td>\n      <td>3.0</td>\n    </tr>\n    <tr>\n      <th>1701</th>\n      <td>0.0</td>\n      <td>0.0</td>\n      <td>3.0</td>\n      <td>0.0</td>\n      <td>0.0</td>\n      <td>0.0</td>\n      <td>0.0</td>\n    </tr>\n    <tr>\n      <th>1702</th>\n      <td>0.0</td>\n      <td>0.0</td>\n      <td>3.0</td>\n      <td>0.0</td>\n      <td>0.0</td>\n      <td>1.0</td>\n      <td>0.0</td>\n    </tr>\n    <tr>\n      <th>1703</th>\n      <td>0.0</td>\n      <td>0.0</td>\n      <td>3.0</td>\n      <td>0.0</td>\n      <td>0.0</td>\n      <td>2.0</td>\n      <td>0.0</td>\n    </tr>\n    <tr>\n      <th>1704</th>\n      <td>0.0</td>\n      <td>0.0</td>\n      <td>3.0</td>\n      <td>0.0</td>\n      <td>1.0</td>\n      <td>0.0</td>\n      <td>0.0</td>\n    </tr>\n    <tr>\n      <th>1705</th>\n      <td>0.0</td>\n      <td>0.0</td>\n      <td>3.0</td>\n      <td>0.0</td>\n      <td>1.0</td>\n      <td>1.0</td>\n      <td>0.0</td>\n    </tr>\n    <tr>\n      <th>1706</th>\n      <td>0.0</td>\n      <td>0.0</td>\n      <td>3.0</td>\n      <td>0.0</td>\n      <td>1.0</td>\n      <td>2.0</td>\n      <td>0.0</td>\n    </tr>\n    <tr>\n      <th>1707</th>\n      <td>0.0</td>\n      <td>0.0</td>\n      <td>3.0</td>\n      <td>0.0</td>\n      <td>2.0</td>\n      <td>0.0</td>\n      <td>0.0</td>\n    </tr>\n    <tr>\n      <th>1708</th>\n      <td>0.0</td>\n      <td>0.0</td>\n      <td>3.0</td>\n      <td>0.0</td>\n      <td>2.0</td>\n      <td>1.0</td>\n      <td>0.0</td>\n    </tr>\n    <tr>\n      <th>1709</th>\n      <td>0.0</td>\n      <td>0.0</td>\n      <td>3.0</td>\n      <td>0.0</td>\n      <td>2.0</td>\n      <td>2.0</td>\n      <td>0.0</td>\n    </tr>\n    <tr>\n      <th>1710</th>\n      <td>0.0</td>\n      <td>0.0</td>\n      <td>3.0</td>\n      <td>1.0</td>\n      <td>0.0</td>\n      <td>0.0</td>\n      <td>0.0</td>\n    </tr>\n    <tr>\n      <th>1711</th>\n      <td>0.0</td>\n      <td>0.0</td>\n      <td>3.0</td>\n      <td>1.0</td>\n      <td>0.0</td>\n      <td>1.0</td>\n      <td>1.0</td>\n    </tr>\n    <tr>\n      <th>1712</th>\n      <td>0.0</td>\n      <td>0.0</td>\n      <td>3.0</td>\n      <td>1.0</td>\n      <td>0.0</td>\n      <td>2.0</td>\n      <td>2.0</td>\n    </tr>\n    <tr>\n      <th>1713</th>\n      <td>0.0</td>\n      <td>0.0</td>\n      <td>3.0</td>\n      <td>1.0</td>\n      <td>1.0</td>\n      <td>0.0</td>\n      <td>0.0</td>\n    </tr>\n    <tr>\n      <th>1714</th>\n      <td>0.0</td>\n      <td>0.0</td>\n      <td>3.0</td>\n      <td>1.0</td>\n      <td>1.0</td>\n      <td>1.0</td>\n      <td>2.0</td>\n    </tr>\n    <tr>\n      <th>1715</th>\n      <td>0.0</td>\n      <td>0.0</td>\n      <td>3.0</td>\n      <td>1.0</td>\n      <td>1.0</td>\n      <td>2.0</td>\n      <td>3.0</td>\n    </tr>\n    <tr>\n      <th>1716</th>\n      <td>0.0</td>\n      <td>0.0</td>\n      <td>3.0</td>\n      <td>1.0</td>\n      <td>2.0</td>\n      <td>0.0</td>\n      <td>0.0</td>\n    </tr>\n    <tr>\n      <th>1717</th>\n      <td>0.0</td>\n      <td>0.0</td>\n      <td>3.0</td>\n      <td>1.0</td>\n      <td>2.0</td>\n      <td>1.0</td>\n      <td>2.0</td>\n    </tr>\n    <tr>\n      <th>1718</th>\n      <td>0.0</td>\n      <td>0.0</td>\n      <td>3.0</td>\n      <td>1.0</td>\n      <td>2.0</td>\n      <td>2.0</td>\n      <td>3.0</td>\n    </tr>\n    <tr>\n      <th>1719</th>\n      <td>0.0</td>\n      <td>0.0</td>\n      <td>3.0</td>\n      <td>2.0</td>\n      <td>0.0</td>\n      <td>0.0</td>\n      <td>0.0</td>\n    </tr>\n    <tr>\n      <th>1720</th>\n      <td>0.0</td>\n      <td>0.0</td>\n      <td>3.0</td>\n      <td>2.0</td>\n      <td>0.0</td>\n      <td>1.0</td>\n      <td>1.0</td>\n    </tr>\n    <tr>\n      <th>1721</th>\n      <td>0.0</td>\n      <td>0.0</td>\n      <td>3.0</td>\n      <td>2.0</td>\n      <td>0.0</td>\n      <td>2.0</td>\n      <td>2.0</td>\n    </tr>\n    <tr>\n      <th>1722</th>\n      <td>0.0</td>\n      <td>0.0</td>\n      <td>3.0</td>\n      <td>2.0</td>\n      <td>1.0</td>\n      <td>0.0</td>\n      <td>0.0</td>\n    </tr>\n    <tr>\n      <th>1723</th>\n      <td>0.0</td>\n      <td>0.0</td>\n      <td>3.0</td>\n      <td>2.0</td>\n      <td>1.0</td>\n      <td>1.0</td>\n      <td>2.0</td>\n    </tr>\n    <tr>\n      <th>1724</th>\n      <td>0.0</td>\n      <td>0.0</td>\n      <td>3.0</td>\n      <td>2.0</td>\n      <td>1.0</td>\n      <td>2.0</td>\n      <td>3.0</td>\n    </tr>\n    <tr>\n      <th>1725</th>\n      <td>0.0</td>\n      <td>0.0</td>\n      <td>3.0</td>\n      <td>2.0</td>\n      <td>2.0</td>\n      <td>0.0</td>\n      <td>0.0</td>\n    </tr>\n    <tr>\n      <th>1726</th>\n      <td>0.0</td>\n      <td>0.0</td>\n      <td>3.0</td>\n      <td>2.0</td>\n      <td>2.0</td>\n      <td>1.0</td>\n      <td>2.0</td>\n    </tr>\n    <tr>\n      <th>1727</th>\n      <td>0.0</td>\n      <td>0.0</td>\n      <td>3.0</td>\n      <td>2.0</td>\n      <td>2.0</td>\n      <td>2.0</td>\n      <td>3.0</td>\n    </tr>\n  </tbody>\n</table>\n</div>",
      "text/plain": "      buying  maint  doors  persons  lug_boot  safety  classifier\n1698     0.0    0.0    2.0      2.0       2.0     0.0         0.0\n1699     0.0    0.0    2.0      2.0       2.0     1.0         2.0\n1700     0.0    0.0    2.0      2.0       2.0     2.0         3.0\n1701     0.0    0.0    3.0      0.0       0.0     0.0         0.0\n1702     0.0    0.0    3.0      0.0       0.0     1.0         0.0\n1703     0.0    0.0    3.0      0.0       0.0     2.0         0.0\n1704     0.0    0.0    3.0      0.0       1.0     0.0         0.0\n1705     0.0    0.0    3.0      0.0       1.0     1.0         0.0\n1706     0.0    0.0    3.0      0.0       1.0     2.0         0.0\n1707     0.0    0.0    3.0      0.0       2.0     0.0         0.0\n1708     0.0    0.0    3.0      0.0       2.0     1.0         0.0\n1709     0.0    0.0    3.0      0.0       2.0     2.0         0.0\n1710     0.0    0.0    3.0      1.0       0.0     0.0         0.0\n1711     0.0    0.0    3.0      1.0       0.0     1.0         1.0\n1712     0.0    0.0    3.0      1.0       0.0     2.0         2.0\n1713     0.0    0.0    3.0      1.0       1.0     0.0         0.0\n1714     0.0    0.0    3.0      1.0       1.0     1.0         2.0\n1715     0.0    0.0    3.0      1.0       1.0     2.0         3.0\n1716     0.0    0.0    3.0      1.0       2.0     0.0         0.0\n1717     0.0    0.0    3.0      1.0       2.0     1.0         2.0\n1718     0.0    0.0    3.0      1.0       2.0     2.0         3.0\n1719     0.0    0.0    3.0      2.0       0.0     0.0         0.0\n1720     0.0    0.0    3.0      2.0       0.0     1.0         1.0\n1721     0.0    0.0    3.0      2.0       0.0     2.0         2.0\n1722     0.0    0.0    3.0      2.0       1.0     0.0         0.0\n1723     0.0    0.0    3.0      2.0       1.0     1.0         2.0\n1724     0.0    0.0    3.0      2.0       1.0     2.0         3.0\n1725     0.0    0.0    3.0      2.0       2.0     0.0         0.0\n1726     0.0    0.0    3.0      2.0       2.0     1.0         2.0\n1727     0.0    0.0    3.0      2.0       2.0     2.0         3.0"
     },
     "execution_count": 162,
     "metadata": {},
     "output_type": "execute_result"
    }
   ],
   "source": [
    "df['buying'] = df['buying'].astype('float64')\n",
    "df['maint'] = df['maint'].astype('float64')\n",
    "df['doors'] = df['doors'].astype('float64')\n",
    "df['persons'] = df['persons'].astype('float64')\n",
    "df['lug_boot'] = df['lug_boot'].astype('float64')\n",
    "df['safety'] = df['safety'].astype('float64')\n",
    "df['classifier'] = df['classifier'].astype('float64')"
   ]
  },
  {
   "cell_type": "markdown",
   "execution_count": null,
   "metadata": {},
   "outputs": [],
   "source": [
    "Displaying information about the columns"
   ]
  },
  {
   "cell_type": "code",
   "execution_count": 144,
   "metadata": {},
   "outputs": [
    {
     "data": {
      "text/html": "<div>\n<style scoped>\n    .dataframe tbody tr th:only-of-type {\n        vertical-align: middle;\n    }\n\n    .dataframe tbody tr th {\n        vertical-align: top;\n    }\n\n    .dataframe thead th {\n        text-align: right;\n    }\n</style>\n<table border=\"1\" class=\"dataframe\">\n  <thead>\n    <tr style=\"text-align: right;\">\n      <th></th>\n      <th>buying</th>\n      <th>maint</th>\n      <th>doors</th>\n      <th>persons</th>\n      <th>lug_boot</th>\n      <th>safety</th>\n      <th>classifier</th>\n    </tr>\n  </thead>\n  <tbody>\n    <tr>\n      <th>count</th>\n      <td>1728.000000</td>\n      <td>1728.000000</td>\n      <td>1728.000000</td>\n      <td>1728.000000</td>\n      <td>1728.000000</td>\n      <td>1728.000000</td>\n      <td>1728.000000</td>\n    </tr>\n    <tr>\n      <th>mean</th>\n      <td>1.500000</td>\n      <td>1.500000</td>\n      <td>1.500000</td>\n      <td>1.000000</td>\n      <td>1.000000</td>\n      <td>1.000000</td>\n      <td>0.414931</td>\n    </tr>\n    <tr>\n      <th>std</th>\n      <td>1.118358</td>\n      <td>1.118358</td>\n      <td>1.118358</td>\n      <td>0.816733</td>\n      <td>0.816733</td>\n      <td>0.816733</td>\n      <td>0.740700</td>\n    </tr>\n    <tr>\n      <th>min</th>\n      <td>0.000000</td>\n      <td>0.000000</td>\n      <td>0.000000</td>\n      <td>0.000000</td>\n      <td>0.000000</td>\n      <td>0.000000</td>\n      <td>0.000000</td>\n    </tr>\n    <tr>\n      <th>25%</th>\n      <td>0.750000</td>\n      <td>0.750000</td>\n      <td>0.750000</td>\n      <td>0.000000</td>\n      <td>0.000000</td>\n      <td>0.000000</td>\n      <td>0.000000</td>\n    </tr>\n    <tr>\n      <th>50%</th>\n      <td>1.500000</td>\n      <td>1.500000</td>\n      <td>1.500000</td>\n      <td>1.000000</td>\n      <td>1.000000</td>\n      <td>1.000000</td>\n      <td>0.000000</td>\n    </tr>\n    <tr>\n      <th>75%</th>\n      <td>2.250000</td>\n      <td>2.250000</td>\n      <td>2.250000</td>\n      <td>2.000000</td>\n      <td>2.000000</td>\n      <td>2.000000</td>\n      <td>1.000000</td>\n    </tr>\n    <tr>\n      <th>max</th>\n      <td>3.000000</td>\n      <td>3.000000</td>\n      <td>3.000000</td>\n      <td>2.000000</td>\n      <td>2.000000</td>\n      <td>2.000000</td>\n      <td>3.000000</td>\n    </tr>\n  </tbody>\n</table>\n</div>",
      "text/plain": "            buying        maint        doors      persons     lug_boot  \\\ncount  1728.000000  1728.000000  1728.000000  1728.000000  1728.000000   \nmean      1.500000     1.500000     1.500000     1.000000     1.000000   \nstd       1.118358     1.118358     1.118358     0.816733     0.816733   \nmin       0.000000     0.000000     0.000000     0.000000     0.000000   \n25%       0.750000     0.750000     0.750000     0.000000     0.000000   \n50%       1.500000     1.500000     1.500000     1.000000     1.000000   \n75%       2.250000     2.250000     2.250000     2.000000     2.000000   \nmax       3.000000     3.000000     3.000000     2.000000     2.000000   \n\n            safety   classifier  \ncount  1728.000000  1728.000000  \nmean      1.000000     0.414931  \nstd       0.816733     0.740700  \nmin       0.000000     0.000000  \n25%       0.000000     0.000000  \n50%       1.000000     0.000000  \n75%       2.000000     1.000000  \nmax       2.000000     3.000000  "
     },
     "execution_count": 144,
     "metadata": {},
     "output_type": "execute_result"
    }
   ],
   "source": [
    "df.describe()"
   ]
  },
  {
   "cell_type": "markdown",
   "execution_count": null,
   "metadata": {},
   "outputs": [],
   "source": [
    "Show the amount of `null` values in the colunms"
   ]
  },
  {
   "cell_type": "code",
   "execution_count": 145,
   "metadata": {},
   "outputs": [
    {
     "data": {
      "text/plain": "buying        0\nmaint         0\ndoors         0\npersons       0\nlug_boot      0\nsafety        0\nclassifier    0\ndtype: int64"
     },
     "execution_count": 145,
     "metadata": {},
     "output_type": "execute_result"
    }
   ],
   "source": [
    "df.isnull().sum()"
   ]
  },
  {
   "cell_type": "markdown",
   "execution_count": null,
   "metadata": {},
   "outputs": [],
   "source": [
    "Shows the spread of classifiers"
   ]
  },
  {
   "cell_type": "code",
   "execution_count": 146,
   "metadata": {},
   "outputs": [
    {
     "data": {
      "text/plain": "classifier\n0.0    1210\n1.0     384\n2.0      69\n3.0      65\ndtype: int64"
     },
     "execution_count": 146,
     "metadata": {},
     "output_type": "execute_result"
    }
   ],
   "source": [
    "df.groupby('classifier').size()"
   ]
  },
  {
   "cell_type": "markdown",
   "execution_count": null,
   "metadata": {},
   "outputs": [],
   "source": [
    "## Preprocess Data"
   ]
  },
  {
   "cell_type": "markdown",
   "execution_count": null,
   "metadata": {},
   "outputs": [],
   "source": [
    "Converst the `dataframe` to a `list`"
   ]
  },
  {
   "cell_type": "code",
   "execution_count": 147,
   "metadata": {},
   "outputs": [],
   "source": [
    "dataset = df.values"
   ]
  },
  {
   "cell_type": "markdown",
   "execution_count": null,
   "metadata": {},
   "outputs": [],
   "source": [
    "Creates sub sets as `features` and `labels`"
   ]
  },
  {
   "cell_type": "code",
   "execution_count": 148,
   "metadata": {},
   "outputs": [],
   "source": [
    "features, labels = dataset[:, :-1], dataset[:, -1]"
   ]
  },
  {
   "cell_type": "markdown",
   "execution_count": null,
   "metadata": {},
   "outputs": [],
   "source": [
    "Separate input data into classes based on labels"
   ]
  },
  {
   "cell_type": "code",
   "execution_count": 149,
   "metadata": {},
   "outputs": [],
   "source": [
    "class0 = np.array(features[labels==0])\n",
    "class1 = np.array(features[labels==1])\n",
    "class2 = np.array(features[labels==2])\n",
    "class3 = np.array(features[labels==3])"
   ]
  },
  {
   "cell_type": "markdown",
   "execution_count": null,
   "metadata": {},
   "outputs": [],
   "source": [
    "Show the sizes of the grouped lists"
   ]
  },
  {
   "cell_type": "code",
   "execution_count": 150,
   "metadata": {},
   "outputs": [
    {
     "name": "stdout",
     "output_type": "stream",
     "text": "class 0 (1210, 6)\nclass 1 (384, 6)\nclass 2 (69, 6)\nclass 3 (65, 6)\n"
    }
   ],
   "source": [
    "print('class 0', class0.shape)\n",
    "print('class 1', class1.shape)\n",
    "print('class 2', class2.shape)\n",
    "print('class 3', class3.shape)"
   ]
  },
  {
   "cell_type": "markdown",
   "execution_count": null,
   "metadata": {},
   "outputs": [],
   "source": [
    "## Train Model"
   ]
  },
  {
   "cell_type": "markdown",
   "execution_count": null,
   "metadata": {},
   "outputs": [],
   "source": [
    "Split the dataset into into training and testing sets in proportion 8:2 \n",
    "- 80% of it as training data\n",
    "- 20% as a validation dataset\n",
    "\n",
    "Initialize seed parameter for the random number generator used for the split"
   ]
  },
  {
   "cell_type": "code",
   "execution_count": 151,
   "metadata": {},
   "outputs": [],
   "source": [
    "set_prop = 0.2\n",
    "seed = 7"
   ]
  },
  {
   "cell_type": "markdown",
   "execution_count": null,
   "metadata": {},
   "outputs": [],
   "source": [
    "Seperating the dataset into subsets for training and testing"
   ]
  },
  {
   "cell_type": "code",
   "execution_count": 152,
   "metadata": {},
   "outputs": [],
   "source": [
    "X_train, X_test, y_train, y_test = model_selection.train_test_split(features, labels, test_size=set_prop, random_state=seed)"
   ]
  },
  {
   "cell_type": "markdown",
   "execution_count": null,
   "metadata": {},
   "outputs": [],
   "source": [
    "Random Forest"
   ]
  },
  {
   "cell_type": "code",
   "execution_count": 154,
   "metadata": {},
   "outputs": [
    {
     "data": {
      "text/plain": "RandomForestClassifier(bootstrap=True, ccp_alpha=0.0, class_weight=None,\n                       criterion='gini', max_depth=6, max_features='auto',\n                       max_leaf_nodes=None, max_samples=None,\n                       min_impurity_decrease=0.0, min_impurity_split=None,\n                       min_samples_leaf=1, min_samples_split=2,\n                       min_weight_fraction_leaf=0.0, n_estimators=100,\n                       n_jobs=None, oob_score=False, random_state=None,\n                       verbose=0, warm_start=False)"
     },
     "execution_count": 154,
     "metadata": {},
     "output_type": "execute_result"
    }
   ],
   "source": [
    "# classifier = DecisionTreeClassifier(**params)\n",
    "classifier = RandomForestClassifier(n_estimators = 100, max_depth = 6)\n",
    "classifier.fit(X_train, y_train)"
   ]
  },
  {
   "cell_type": "markdown",
   "metadata": {},
   "source": [
    "## Test Model"
   ]
  },
  {
   "cell_type": "code",
   "execution_count": 164,
   "metadata": {},
   "outputs": [
    {
     "name": "stdout",
     "output_type": "stream",
     "text": "data 1 [0.]\ndata 2 [1.]\ndata 3 [2.]\ndata 4 [3.]\n"
    }
   ],
   "source": [
    "# data 1:: 0.0, 3.0, 3.0, 0.0, 0.0, 0.0 => 0.0 | row 0\n",
    "data_1 = [[0.0, 3.0, 3.0, 0.0, 0.0, 0.0]]\n",
    "print('data 1', classifier.predict(data_1))\n",
    "\n",
    "# data 2:: 0.0, 0.0, 3.0, 1.0, 0.0, 1.0 => 1.0 | row 1711\n",
    "data_2 = [[0.0, 0.0, 3.0, 1.0, 0.0, 1.0]]\n",
    "print('data 2', classifier.predict(data_2))\n",
    "\n",
    "# data 3:: 0.0, 0.0, 3.0, 2.0, 1.0, 1.0 => 2.0 | row 1723\n",
    "data_3 = [[0.0, 0.0, 3.0, 2.0, 1.0, 1.0]]\n",
    "print('data 3', classifier.predict(data_3))\n",
    "\n",
    "# data 4:: 0.0, 0.0, 3.0, 2.0, 2.0, 2.0 => 3.0 | row 1727\n",
    "data_4 = [[0.0, 0.0, 3.0, 2.0, 2.0, 2.0]]\n",
    "print('data 4', classifier.predict(data_4))"
   ]
  },
  {
   "cell_type": "code",
   "execution_count": 156,
   "metadata": {},
   "outputs": [
    {
     "name": "stdout",
     "output_type": "stream",
     "text": "Accuracy is  0.953757225433526\n"
    }
   ],
   "source": [
    "print (\"Accuracy is \", accuracy_score(y_test,y_testp))"
   ]
  }
 ],
 "metadata": {
  "kernelspec": {
   "display_name": "Python 3",
   "language": "python",
   "name": "python3"
  },
  "language_info": {
   "codemirror_mode": {
    "name": "ipython",
    "version": 3
   },
   "file_extension": ".py",
   "mimetype": "text/x-python",
   "name": "python",
   "nbconvert_exporter": "python",
   "pygments_lexer": "ipython3",
   "version": "3.7.4-final"
  }
 },
 "nbformat": 4,
 "nbformat_minor": 2
}